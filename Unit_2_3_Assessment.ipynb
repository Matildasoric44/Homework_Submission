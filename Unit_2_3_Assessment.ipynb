{
 "cells": [
  {
   "cell_type": "markdown",
   "metadata": {},
   "source": [
    "# Instructions"
   ]
  },
  {
   "cell_type": "markdown",
   "metadata": {},
   "source": [
    "Read each question carefully and provide an appropriate answer in the following cells. Depending on the question, you may need to provide code or a text submission. **Be sure to label your answers with the question number for easy identification!**"
   ]
  },
  {
   "cell_type": "markdown",
   "metadata": {},
   "source": [
    "**Question 1: Which of the following statements is the correct way to import a csv into a Pandas DataFrame? (2 points)** \n",
    "\n",
    "A. \n",
    "\n",
    "```python\n",
    "import pandas as pd\n",
    "infile = pd.read_csv(file_name)\n",
    "```\n",
    "\n",
    "\n",
    "B. \n",
    "\n",
    "```python\n",
    "import pandas as pd\n",
    "infile = pd.readCSV(file_name)\n",
    "```\n",
    "\n",
    "\n",
    "C. \n",
    "\n",
    "```python\n",
    "import pandas as pd\n",
    "infile = read_file(file_name)\n",
    "```\n",
    "\n",
    "\n",
    "D. \n",
    "\n",
    "```python\n",
    "import pandas as pd\n",
    "df.read_file(file_name)\n",
    "```\n"
   ]
  },
  {
   "cell_type": "code",
   "execution_count": 1,
   "metadata": {},
   "outputs": [],
   "source": [
    "#1 ANSWER A"
   ]
  },
  {
   "cell_type": "markdown",
   "metadata": {},
   "source": [
    "**Question 2: Create a code block that first imports the `student.json` file into a Pandas dataframe named `grades`, then creates a new dataframe named `passing` that contains only the students whose `Pass/Fail` status equals `PASS`. (5 points)**"
   ]
  },
  {
   "cell_type": "code",
   "execution_count": 30,
   "metadata": {
    "scrolled": true
   },
   "outputs": [
    {
     "data": {
      "text/html": [
       "<div>\n",
       "<style scoped>\n",
       "    .dataframe tbody tr th:only-of-type {\n",
       "        vertical-align: middle;\n",
       "    }\n",
       "\n",
       "    .dataframe tbody tr th {\n",
       "        vertical-align: top;\n",
       "    }\n",
       "\n",
       "    .dataframe thead th {\n",
       "        text-align: right;\n",
       "    }\n",
       "</style>\n",
       "<table border=\"1\" class=\"dataframe\">\n",
       "  <thead>\n",
       "    <tr style=\"text-align: right;\">\n",
       "      <th></th>\n",
       "      <th>Student Name</th>\n",
       "      <th>Midterm Exam</th>\n",
       "      <th>Midterm Paper</th>\n",
       "      <th>Final Exam</th>\n",
       "      <th>Final Paper</th>\n",
       "      <th>Final Grade</th>\n",
       "      <th>Pass/Fail</th>\n",
       "      <th>Letter Grade</th>\n",
       "    </tr>\n",
       "  </thead>\n",
       "  <tbody>\n",
       "    <tr>\n",
       "      <th>0</th>\n",
       "      <td>Jackqueline Durbin</td>\n",
       "      <td>85</td>\n",
       "      <td>84</td>\n",
       "      <td>90</td>\n",
       "      <td>56</td>\n",
       "      <td>79</td>\n",
       "      <td>PASS</td>\n",
       "      <td>C</td>\n",
       "    </tr>\n",
       "    <tr>\n",
       "      <th>1</th>\n",
       "      <td>Lina Petters</td>\n",
       "      <td>48</td>\n",
       "      <td>57</td>\n",
       "      <td>97</td>\n",
       "      <td>95</td>\n",
       "      <td>74</td>\n",
       "      <td>PASS</td>\n",
       "      <td>C</td>\n",
       "    </tr>\n",
       "    <tr>\n",
       "      <th>2</th>\n",
       "      <td>Hilaria Mcgehee</td>\n",
       "      <td>96</td>\n",
       "      <td>100</td>\n",
       "      <td>97</td>\n",
       "      <td>87</td>\n",
       "      <td>95</td>\n",
       "      <td>PASS</td>\n",
       "      <td>A</td>\n",
       "    </tr>\n",
       "    <tr>\n",
       "      <th>4</th>\n",
       "      <td>Raelene Bundy</td>\n",
       "      <td>89</td>\n",
       "      <td>57</td>\n",
       "      <td>90</td>\n",
       "      <td>85</td>\n",
       "      <td>80</td>\n",
       "      <td>PASS</td>\n",
       "      <td>B</td>\n",
       "    </tr>\n",
       "    <tr>\n",
       "      <th>5</th>\n",
       "      <td>Wayne Mellor</td>\n",
       "      <td>71</td>\n",
       "      <td>93</td>\n",
       "      <td>97</td>\n",
       "      <td>55</td>\n",
       "      <td>79</td>\n",
       "      <td>PASS</td>\n",
       "      <td>C</td>\n",
       "    </tr>\n",
       "  </tbody>\n",
       "</table>\n",
       "</div>"
      ],
      "text/plain": [
       "         Student Name  Midterm Exam  Midterm Paper  Final Exam  Final Paper  \\\n",
       "0  Jackqueline Durbin            85             84          90           56   \n",
       "1        Lina Petters            48             57          97           95   \n",
       "2     Hilaria Mcgehee            96            100          97           87   \n",
       "4       Raelene Bundy            89             57          90           85   \n",
       "5        Wayne Mellor            71             93          97           55   \n",
       "\n",
       "   Final Grade Pass/Fail Letter Grade  \n",
       "0           79      PASS            C  \n",
       "1           74      PASS            C  \n",
       "2           95      PASS            A  \n",
       "4           80      PASS            B  \n",
       "5           79      PASS            C  "
      ]
     },
     "execution_count": 30,
     "metadata": {},
     "output_type": "execute_result"
    }
   ],
   "source": [
    "#QUESTION2 \n",
    "import pandas as pd\n",
    "grades=pd.read_json(\"student.json\")\n",
    "grades.head()\n",
    "passing=grades[grades[\"Pass/Fail\"]==\"PASS\"]\n",
    "passing.head()"
   ]
  },
  {
   "cell_type": "markdown",
   "metadata": {},
   "source": [
    "**Question 3: Create a code block that creates a Pandas dataframe with the following columns and values: (5 points)**\n",
    "\n",
    "* `Stock_Symbol`: AAPL, GOOG, TSLA, KO, MSFT\n",
    "* `Company_Name`: Apple, Google, Tesla, Coca-Cola, Microsoft\n",
    "* `52_Week_High`: 145.09, 1934.86, 900.40, 60.13, 242.64"
   ]
  },
  {
   "cell_type": "code",
   "execution_count": 31,
   "metadata": {},
   "outputs": [
    {
     "data": {
      "text/html": [
       "<div>\n",
       "<style scoped>\n",
       "    .dataframe tbody tr th:only-of-type {\n",
       "        vertical-align: middle;\n",
       "    }\n",
       "\n",
       "    .dataframe tbody tr th {\n",
       "        vertical-align: top;\n",
       "    }\n",
       "\n",
       "    .dataframe thead th {\n",
       "        text-align: right;\n",
       "    }\n",
       "</style>\n",
       "<table border=\"1\" class=\"dataframe\">\n",
       "  <thead>\n",
       "    <tr style=\"text-align: right;\">\n",
       "      <th></th>\n",
       "      <th>Stock_Symbol</th>\n",
       "      <th>Company_Name</th>\n",
       "      <th>52_Week_High</th>\n",
       "    </tr>\n",
       "  </thead>\n",
       "  <tbody>\n",
       "    <tr>\n",
       "      <th>0</th>\n",
       "      <td>AAPL</td>\n",
       "      <td>Apple</td>\n",
       "      <td>145.09</td>\n",
       "    </tr>\n",
       "    <tr>\n",
       "      <th>1</th>\n",
       "      <td>GOOG</td>\n",
       "      <td>Google</td>\n",
       "      <td>1934.86</td>\n",
       "    </tr>\n",
       "    <tr>\n",
       "      <th>2</th>\n",
       "      <td>TSLA</td>\n",
       "      <td>Tesla</td>\n",
       "      <td>900.40</td>\n",
       "    </tr>\n",
       "    <tr>\n",
       "      <th>3</th>\n",
       "      <td>KO</td>\n",
       "      <td>Coca-Cola</td>\n",
       "      <td>60.13</td>\n",
       "    </tr>\n",
       "    <tr>\n",
       "      <th>4</th>\n",
       "      <td>MSFT</td>\n",
       "      <td>Microsoft</td>\n",
       "      <td>242.64</td>\n",
       "    </tr>\n",
       "  </tbody>\n",
       "</table>\n",
       "</div>"
      ],
      "text/plain": [
       "  Stock_Symbol Company_Name  52_Week_High\n",
       "0         AAPL        Apple        145.09\n",
       "1         GOOG       Google       1934.86\n",
       "2         TSLA        Tesla        900.40\n",
       "3           KO    Coca-Cola         60.13\n",
       "4         MSFT    Microsoft        242.64"
      ]
     },
     "execution_count": 31,
     "metadata": {},
     "output_type": "execute_result"
    }
   ],
   "source": [
    "#3\n",
    "import pandas as pd\n",
    "data={'Stock_Symbol':[\"AAPL\", \"GOOG\", \"TSLA\", \"KO\", \"MSFT\"],\"Company_Name\":[ \"Apple\", \"Google\", \"Tesla\", \"Coca-Cola\", \"Microsoft\"],\"52_Week_High\":[ 145.09, 1934.86, 900.40, 60.13, 242.64]}\n",
    "df = pd.DataFrame (data)\n",
    "df.head()\n"
   ]
  },
  {
   "cell_type": "markdown",
   "metadata": {},
   "source": [
    "**Question 4: Which of the following `git` commands creates a new branch in your local repository? (2 points):**\n",
    "\n",
    "A. `git clone`\n",
    "\n",
    "B. `git pull <branch name>` \n",
    "\n",
    "C. `git checkout -b <branch name>`\n",
    "\n",
    "D. `git push -b <branch name>`"
   ]
  },
  {
   "cell_type": "code",
   "execution_count": 4,
   "metadata": {},
   "outputs": [],
   "source": [
    "#4\n",
    "B"
   ]
  },
  {
   "cell_type": "markdown",
   "metadata": {},
   "source": [
    "**Question 5: Create a code block that performs the following operations: (10 points)**\n",
    "\n",
    "   1. Import the `bitcoin_cash_price.csv` file into a Pandas dataframe called `bitcoin`.\n",
    "   \n",
    "   2. Import the `dash_price.csv` file into a Pandas dataframe called `dash`.\n",
    "   \n",
    "   3. Merge the `bitcoin` and `dash` dataframes using the `Date` column as the identifier column. Name this new merged dataframe `crypto`. \n",
    "   \n",
    "   4. Create a new `Delta_Volume` column in the `crypto` dataframe that calculates the **absolute** difference between the bitcoin `Volume` versus dash `Volume`.\n",
    "   \n",
    "     * **Hint:** Use `abs()` to calculate absolute value.\n",
    "   \n",
    "   \n",
    "   5. Find the row in the `crypto` dataframe that contains the maximum `Delta_Volume` value. Print the row out. "
   ]
  },
  {
   "cell_type": "code",
   "execution_count": 85,
   "metadata": {},
   "outputs": [
    {
     "name": "stdout",
     "output_type": "stream",
     "text": [
      "         Date  Open_x  High_x   Low_x  Close_x      Volume_x   Market Cap_x  \\\n",
      "30  18-Aug-17  458.67  764.07  458.67   690.24  3.087490e+09  7,565,590,000   \n",
      "\n",
      "    Open_y  High_y   Low_y  Close_y    Volume_y   Market Cap_y  Delta_Volume  \n",
      "30  233.84  240.41  219.42   224.28  50324200.0  1,753,350,000  3.037166e+09  \n"
     ]
    }
   ],
   "source": [
    "#5\n",
    "import pandas as pd\n",
    "import numpy as np\n",
    "bitcoin=pd.read_csv(\"bitcoin_cash_price.csv\")\n",
    "dash=pd.read_csv(\"dash_price.csv\")\n",
    "bitcoin.head()\n",
    "dash.head()\n",
    "crypto=pd.merge(bitcoin,dash,on= \"Date\")\n",
    "crypto[\"Delta_Volume\"]=abs(crypto[\"Volume_x\"])-abs(crypto[\"Volume_y\"])\n",
    "print(crypto[crypto[\"Delta_Volume\"] == crypto[\"Delta_Volume\"].max()])\n",
    "##row 30 has the max value fro delta volume"
   ]
  },
  {
   "cell_type": "markdown",
   "metadata": {},
   "source": [
    "**Question 6: Which of the following statements adjusts the upper and lower limits on a Matplotlib visualization? (2 points)**\n",
    "\n",
    "A. \n",
    "\n",
    "```python\n",
    "import matplotlib.pyplot as plt\n",
    "plt.hlines(0,25,0, alpha=0.25)\n",
    "```\n",
    "\n",
    "B.\n",
    "\n",
    "```python\n",
    "import matplotlib.pyplot as plt\n",
    "plt.xlim(0,25)\n",
    "plt.ylim(0,25)\n",
    "```\n",
    "\n",
    "C.\n",
    "```python\n",
    "import matplotlib.pyplot as plt\n",
    "plt.grid(0,25,0,25)\n",
    "```\n",
    "\n",
    "D.\n",
    "```python\n",
    "import matplotlib.pyplot as plt\n",
    "plt.upper(0,25)\n",
    "plt.lower(0,25)\n",
    "```"
   ]
  },
  {
   "cell_type": "code",
   "execution_count": 6,
   "metadata": {},
   "outputs": [],
   "source": [
    "#6\n",
    "B"
   ]
  },
  {
   "cell_type": "markdown",
   "metadata": {},
   "source": [
    "**Question 7: Generate a bar plot that visualizes the following Netflix show IMDB ratings: (5 points)**\n",
    "\n",
    "`{\"Series\":[\"The Witcher\",\"Disenchantment\",\"Tiger King\",\"Ozark\",\"Stranger Things\"],\"User Ratings\":[8.2,7.2,7.6,8.4,8.7]}`"
   ]
  },
  {
   "cell_type": "code",
   "execution_count": 111,
   "metadata": {},
   "outputs": [
    {
     "data": {
      "image/png": "[encoded data removed]",
      "text/plain": [
       "<Figure size 432x288 with 1 Axes>"
      ]
     },
     "metadata": {
      "needs_background": "light"
     },
     "output_type": "display_data"
    }
   ],
   "source": [
    "#7\n",
    "import numpy as np\n",
    "import matplotlib.pyplot as plt\n",
    "fig = plt.figure()\n",
    "Series=[\"The Witcher\",\"Disenchantment\",\"Tiger King\",\"Ozark\",\"Stranger Things\"]\n",
    "User_Ratings=[8.2,7.2,7.6,8.4,8.7]\n",
    "ax = fig.add_axes([0,0,1,1])\n",
    "ax.bar(Series,User_Ratings)\n",
    "plt.show()"
   ]
  },
  {
   "cell_type": "markdown",
   "metadata": {},
   "source": [
    "**Question 8: Which of the following statements corretly creates a Matplotlib visualization with four subplots? (2 points)**\n",
    "\n",
    "A. `plt.subplot()`\n",
    "\n",
    "B. `plt.subplot(1,2,3,4)`\n",
    "\n",
    "C. `plt.subplot(1,4)`\n",
    "\n",
    "D. `plt.subplot(2,2,1)`"
   ]
  },
  {
   "cell_type": "code",
   "execution_count": 8,
   "metadata": {},
   "outputs": [],
   "source": [
    "#8C"
   ]
  },
  {
   "cell_type": "markdown",
   "metadata": {},
   "source": [
    "**Question 9: Which of the following Matplotlib methods would you use to add a label to your plot with an arrow pointing to the value? (2 points)**\n",
    "\n",
    "A. `plt.annotate()`\n",
    "\n",
    "B. `plt.label()`\n",
    "\n",
    "C. `plt.show()`\n",
    "\n",
    "D. `plt.arrow()`"
   ]
  },
  {
   "cell_type": "code",
   "execution_count": 9,
   "metadata": {},
   "outputs": [],
   "source": [
    "#9 A with the coordinates where we want the label to be"
   ]
  },
  {
   "cell_type": "markdown",
   "metadata": {},
   "source": [
    "**Question 10: Create a code block that performs the following operations: (15 points)**\n",
    "\n",
    "1. Import the `earthquakes_database.csv` file into a Pandas dataframe named `earthquakes`\n",
    "\n",
    "2. Retrieve the names of the unique data sources found in the `Source` column within your `earthquakes` dataframe.\n",
    "\n",
    "    * **Hint:** There should be 13 data sources.\n",
    "\n",
    "\n",
    "3. Create a Matplotlib scatterplot for each data source that visualizes the `Magnitude` (y-axis) versus `Depth` (x-axis). Be sure to add axis labels to your axes and title each plot with the name of the data source.\n",
    "\n",
    "    * **Note:** You will need to filter the `earthquakes` dataframe for each category type.\n"
   ]
  },
  {
   "cell_type": "code",
   "execution_count": 199,
   "metadata": {},
   "outputs": [
    {
     "data": {
      "image/png": "[encoded data removed]",
      "text/plain": [
       "<Figure size 432x288 with 1 Axes>"
      ]
     },
     "metadata": {
      "needs_background": "light"
     },
     "output_type": "display_data"
    }
   ],
   "source": [
    "#10\n",
    "import numpy as np\n",
    "import matplotlib.pyplot as plt\n",
    "earthquakes=pd.read_csv(\"earthquakes_database.csv\")\n",
    "earthquakes.head()\n",
    "unique_sources=np.unique(earthquakes[\"Source\"])\n",
    "AK=earthquakes[earthquakes[\"Source\"]==\"AK\"]\n",
    "AK.drop(AK.columns.difference(['Source','Depth','Magnitude']), 1, inplace=True)\n",
    "ATLAS=earthquakes[earthquakes[\"Source\"]==\"ATLAS\"]\n",
    "CI=earthquakes[earthquakes[\"Source\"]==\"CI\"]\n",
    "CI.drop(CI.columns.difference(['Source','Depth','Magnitude']), 1, inplace=True)\n",
    "GCMT=earthquakes[earthquakes[\"Source\"]==\"GCMT\"]\n",
    "GCMT.drop(GCMT.columns.difference(['Source','Depth','Magnitude']), 1, inplace=True)\n",
    "ISCGEM=earthquakes[earthquakes[\"Source\"]==\"ISCGEM\"]\n",
    "ISCGEM.drop(ISCGEM.columns.difference(['Source','Depth','Magnitude']), 1, inplace=True)\n",
    "NC=earthquakes[earthquakes[\"Source\"]==\"NC\"]\n",
    "NC.drop(NC.columns.difference(['Source','Depth','Magnitude']), 1, inplace=True)\n",
    "NN=earthquakes[earthquakes[\"Source\"]==\"NN\"]\n",
    "OFFICIAL=earthquakes[earthquakes[\"Source\"]==\"OFFICIAL\"]\n",
    "OFFICIAL.drop(OFFICIAL.columns.difference(['Source','Depth','Magnitude']), 1, inplace=True)\n",
    "PR=earthquakes[earthquakes[\"Source\"]==\"PR\"]\n",
    "PR.drop(PR.columns.difference(['Source','Depth','Magnitude']), 1, inplace=True)\n",
    "SE=earthquakes[earthquakes[\"Source\"]==\"SE\"]\n",
    "SE.drop(SE.columns.difference(['Source','Depth','Magnitude']), 1, inplace=True)\n",
    "US=earthquakes[earthquakes[\"Source\"]==\"US\"]\n",
    "US.drop(US.columns.difference(['Source','Depth','Magnitude']), 1, inplace=True)\n",
    "UW=earthquakes[earthquakes[\"Source\"]==\"UW\"]\n",
    "UW.drop(UW.columns.difference(['Source','Depth','Magnitude']), 1, inplace=True)\n",
    "ISCGEMSUP=earthquakes[earthquakes[\"Source\"]==\"UW\"]\n",
    "ISCGEMSUP.drop(ISCGEMSUP.columns.difference(['Source','Depth','Magnitude']), 1, inplace=True)\n",
    "#Array=['AK', 'ATLAS', 'CI', 'GCMT', 'ISCGEM', 'ISCGEMSUP', 'NC', 'NN','OFFICIAL', 'PR', 'SE', 'US', 'UW']\n",
    "x=UW[[\"Depth\"]]\n",
    "y=UW[[\"Magnitude\"]]\n",
    "plt.scatter(x,y)\n",
    "plt.title(\"UW\")\n",
    "plt.xlabel(\"DEPTH\")\n",
    "plt.ylabel(\"MAGNITUDE\")\n",
    "plt.show()"
   ]
  },
  {
   "cell_type": "code",
   "execution_count": 192,
   "metadata": {},
   "outputs": [
    {
     "data": {
      "image/png": "[encoded data removed]",
      "text/plain": [
       "<Figure size 432x288 with 1 Axes>"
      ]
     },
     "metadata": {
      "needs_background": "light"
     },
     "output_type": "display_data"
    }
   ],
   "source": [
    "x=AK[[\"Depth\"]]\n",
    "y=AK[[\"Magnitude\"]]\n",
    "plt.scatter(x,y)\n",
    "plt.title(\"AK\")\n",
    "plt.xlabel(\"DEPTH\")\n",
    "plt.ylabel(\"MAGNITUDE\")\n",
    "plt.show()"
   ]
  },
  {
   "cell_type": "code",
   "execution_count": 200,
   "metadata": {},
   "outputs": [
    {
     "data": {
      "image/png": "[encoded data removed]",
      "text/plain": [
       "<Figure size 432x288 with 1 Axes>"
      ]
     },
     "metadata": {
      "needs_background": "light"
     },
     "output_type": "display_data"
    },
    {
     "data": {
      "image/png": "[encoded data removed]",
      "text/plain": [
       "<Figure size 432x288 with 1 Axes>"
      ]
     },
     "metadata": {
      "needs_background": "light"
     },
     "output_type": "display_data"
    },
    {
     "data": {
      "image/png": "[encoded data removed]",
      "text/plain": [
       "<Figure size 432x288 with 1 Axes>"
      ]
     },
     "metadata": {
      "needs_background": "light"
     },
     "output_type": "display_data"
    },
    {
     "data": {
      "image/png": "[encoded data removed]",
      "text/plain": [
       "<Figure size 432x288 with 1 Axes>"
      ]
     },
     "metadata": {
      "needs_background": "light"
     },
     "output_type": "display_data"
    },
    {
     "data": {
      "image/png": "[encoded data removed]",
      "text/plain": [
       "<Figure size 432x288 with 1 Axes>"
      ]
     },
     "metadata": {
      "needs_background": "light"
     },
     "output_type": "display_data"
    },
    {
     "data": {
      "image/png": "[encoded data removed]",
      "text/plain": [
       "<Figure size 432x288 with 1 Axes>"
      ]
     },
     "metadata": {
      "needs_background": "light"
     },
     "output_type": "display_data"
    },
    {
     "data": {
      "image/png": "[encoded data removed]",
      "text/plain": [
       "<Figure size 432x288 with 1 Axes>"
      ]
     },
     "metadata": {
      "needs_background": "light"
     },
     "output_type": "display_data"
    },
    {
     "data": {
      "image/png": "[encoded data removed]",
      "text/plain": [
       "<Figure size 432x288 with 1 Axes>"
      ]
     },
     "metadata": {
      "needs_background": "light"
     },
     "output_type": "display_data"
    },
    {
     "data": {
      "image/png": "[encoded data removed]",
      "text/plain": [
       "<Figure size 432x288 with 1 Axes>"
      ]
     },
     "metadata": {
      "needs_background": "light"
     },
     "output_type": "display_data"
    },
    {
     "data": {
      "image/png": "[encoded data removed]",
      "text/plain": [
       "<Figure size 432x288 with 1 Axes>"
      ]
     },
     "metadata": {
      "needs_background": "light"
     },
     "output_type": "display_data"
    },
    {
     "data": {
      "image/png": "[encoded data removed]",
      "text/plain": [
       "<Figure size 432x288 with 1 Axes>"
      ]
     },
     "metadata": {
      "needs_background": "light"
     },
     "output_type": "display_data"
    }
   ],
   "source": [
    "x=ATLAS[[\"Depth\"]]\n",
    "y=ATLAS[[\"Magnitude\"]]\n",
    "plt.scatter(x,y)\n",
    "plt.title(\"ATLAS\")\n",
    "plt.xlabel(\"DEPTH\")\n",
    "plt.ylabel(\"MAGNITUDE\")\n",
    "plt.show()\n",
    "x=CI[[\"Depth\"]]\n",
    "y=CI[[\"Magnitude\"]]\n",
    "plt.scatter(x,y)\n",
    "plt.title(\"CI\")\n",
    "plt.xlabel(\"DEPTH\")\n",
    "plt.ylabel(\"MAGNITUDE\")\n",
    "plt.show()\n",
    "x=GCMT[[\"Depth\"]]\n",
    "y=GCMT[[\"Magnitude\"]]\n",
    "plt.scatter(x,y)\n",
    "plt.title(\"GCMT\")\n",
    "plt.xlabel(\"DEPTH\")\n",
    "plt.ylabel(\"MAGNITUDE\")\n",
    "plt.show()\n",
    "x=ISCGEM[[\"Depth\"]]\n",
    "y=ISCGEM[[\"Magnitude\"]]\n",
    "plt.scatter(x,y)\n",
    "plt.title(\"ISCGEM\")\n",
    "plt.xlabel(\"DEPTH\")\n",
    "plt.ylabel(\"MAGNITUDE\")\n",
    "plt.show()\n",
    "x=ISCGEMSUP[[\"Depth\"]]\n",
    "y=ISCGEMSUP[[\"Magnitude\"]]\n",
    "plt.scatter(x,y)\n",
    "plt.title(\"ISCGEMSUP\")\n",
    "plt.xlabel(\"DEPTH\")\n",
    "plt.ylabel(\"MAGNITUDE\")\n",
    "plt.show()\n",
    "x=NC[[\"Depth\"]]\n",
    "y=NC[[\"Magnitude\"]]\n",
    "plt.scatter(x,y)\n",
    "plt.title(\"NC\")\n",
    "plt.xlabel(\"DEPTH\")\n",
    "plt.ylabel(\"MAGNITUDE\")\n",
    "plt.show()\n",
    "x=NN[[\"Depth\"]]\n",
    "y=NN[[\"Magnitude\"]]\n",
    "plt.scatter(x,y)\n",
    "plt.title(\"NN\")\n",
    "plt.xlabel(\"DEPTH\")\n",
    "plt.ylabel(\"MAGNITUDE\")\n",
    "plt.show()\n",
    "x=OFFICIAL[[\"Depth\"]]\n",
    "y=OFFICIAL[[\"Magnitude\"]]\n",
    "plt.scatter(x,y)\n",
    "plt.title(\"OFFICIAL\")\n",
    "plt.xlabel(\"DEPTH\")\n",
    "plt.ylabel(\"MAGNITUDE\")\n",
    "plt.show()\n",
    "x=PR[[\"Depth\"]]\n",
    "y=PR[[\"Magnitude\"]]\n",
    "plt.scatter(x,y)\n",
    "plt.title(\"PR\")\n",
    "plt.xlabel(\"DEPTH\")\n",
    "plt.ylabel(\"MAGNITUDE\")\n",
    "plt.show()\n",
    "x=SE[[\"Depth\"]]\n",
    "y=SE[[\"Magnitude\"]]\n",
    "plt.scatter(x,y)\n",
    "plt.title(\"SE\")\n",
    "plt.xlabel(\"DEPTH\")\n",
    "plt.ylabel(\"MAGNITUDE\")\n",
    "plt.show()\n",
    "x=US[[\"Depth\"]]\n",
    "y=US[[\"Magnitude\"]]\n",
    "plt.scatter(x,y)\n",
    "plt.title(\"US\")\n",
    "plt.xlabel(\"DEPTH\")\n",
    "plt.ylabel(\"MAGNITUDE\")\n",
    "plt.show()"
   ]
  }
 ],
 "metadata": {
  "kernelspec": {
   "display_name": "Python 3",
   "language": "python",
   "name": "python3"
  },
  "language_info": {
   "codemirror_mode": {
    "name": "ipython",
    "version": 3
   },
   "file_extension": ".py",
   "mimetype": "text/x-python",
   "name": "python",
   "nbconvert_exporter": "python",
   "pygments_lexer": "ipython3",
   "version": "3.8.8"
  }
 },
 "nbformat": 4,
 "nbformat_minor": 4
}
